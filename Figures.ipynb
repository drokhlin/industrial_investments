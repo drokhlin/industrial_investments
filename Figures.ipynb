{
 "cells": [
  {
   "cell_type": "markdown",
   "id": "ab1ba05d",
   "metadata": {},
   "source": [
    "This code produces graphs for the paper \n",
    "\n",
    "**A simple model for targeting industrial investments with subsidies and taxes**\n",
    "\n",
    "by\n",
    "\n",
    "Dmitry B. Rokhlin and Gennady A. Ougolnitsky "
   ]
  },
  {
   "cell_type": "code",
   "execution_count": 1,
   "id": "4523ab85",
   "metadata": {},
   "outputs": [],
   "source": [
    "import numpy as np\n",
    "import matplotlib.pyplot as plt"
   ]
  },
  {
   "cell_type": "code",
   "execution_count": 3,
   "id": "dfd42a01",
   "metadata": {},
   "outputs": [],
   "source": [
    "A=1.8\n",
    "mu=0.3\n",
    "nu=0.5\n",
    "p=1"
   ]
  },
  {
   "cell_type": "markdown",
   "id": "9b9edb20",
   "metadata": {},
   "source": [
    "$$\\ell_1=\\left(A \\nu^\\nu\\right)^{1/(1-\\nu-\\mu)}\\left(\\frac{\\mu}{p}\\right)^{\\mu/(1-\\nu-\\mu)} \\left(\\frac{\\mu}{1-\\nu}\\right)^{\\mu/(1-\\nu-\\mu)},$$\n",
    "$$\\ell_2=(A\\nu^\\nu)^{1/(1-\\nu-\\mu)}\\left(\\frac{\\mu}{p}\\right)^{\\mu/(1-\\mu-\\nu)}\\left(\\frac{1-\\nu}{\\mu}\\right)^{\\nu/(1-\\nu-\\mu)}.$$"
   ]
  },
  {
   "cell_type": "code",
   "execution_count": 4,
   "id": "fd3084fb",
   "metadata": {},
   "outputs": [
    {
     "data": {
      "text/plain": [
       "(0.2550916800000002, 1.9683000000000017)"
      ]
     },
     "execution_count": 4,
     "metadata": {},
     "output_type": "execute_result"
    }
   ],
   "source": [
    "l_1=(A*nu**nu)**(1/(1-nu-mu))*(mu/p)**(mu/(1-nu-mu))*(mu/(1-nu))**(mu/(1-nu-mu))\n",
    "l_2=(A*nu**nu)**(1/(1-nu-mu))*(mu/p)**(mu/(1-nu-mu))*((1-nu)/mu)**(nu/(1-nu-mu))\n",
    "l_1, l_2"
   ]
  },
  {
   "cell_type": "markdown",
   "id": "ad595804",
   "metadata": {},
   "source": [
    "$$ g^*=\\begin{cases}\n",
    "(1-\\nu)\\left(\\left(\\displaystyle\\frac{1}{A\\nu^\\nu}\\right)^{1/\\mu}\\displaystyle\\frac{p}{\\mu}\\underline x^{(1-\\nu)/\\mu}-\\underline x\\right) ,& \\underline x\\le\\ell_1,\\\\\n",
    "\\varkappa(\\mu,\\nu)\\left(\\displaystyle\\frac{1}{A\\nu^\\nu}\\right)^{1/(\\mu+\\nu)}\\left(\\displaystyle\\frac{p}{\\mu}\\right)^{\\mu/(\\mu+\\nu)}\\underline x^{1/(\\mu+\\nu)}-\\underline x, & \\ell_1\\le \\underline x\\le\\ell_2,\\\\\n",
    "\\nu\\left(\\left(\\displaystyle\\frac{1}{A\\nu^\\nu}\\right)^{1/\\nu} \\left(\\displaystyle\\frac{p}{\\mu}\\right)^{\\mu/\\nu}\\underline x^{(1-\\mu)/\\nu}-\\underline x \\right), &\\ell_2\\le \\underline x,\n",
    "\\end{cases} $$\n",
    "\n",
    "$$\\varkappa(\\mu,\\nu)=\\nu\\left(\\frac{1-\\nu}{\\mu}\\right)^{\\mu/(\\mu+\\nu)}+(1-\\nu)\\left(\\frac{\\mu}{1-\\nu}\\right)^{\\nu/(\\mu+\\nu)}. $$"
   ]
  },
  {
   "cell_type": "code",
   "execution_count": 5,
   "id": "272d1d33",
   "metadata": {},
   "outputs": [
    {
     "data": {
      "text/plain": [
       "0.9689096204391923"
      ]
     },
     "execution_count": 5,
     "metadata": {},
     "output_type": "execute_result"
    }
   ],
   "source": [
    "kappa=nu*((1-nu)/mu)**(mu/(mu+nu))+(1-nu)*(mu/(1-nu))**(nu/(nu+mu))\n",
    "kappa"
   ]
  },
  {
   "cell_type": "code",
   "execution_count": 6,
   "id": "7cea2771",
   "metadata": {},
   "outputs": [],
   "source": [
    "def g_star(x):\n",
    "    if x<=l_1:\n",
    "        v=(1-nu)*((1/(A*nu**nu))**(1/mu)*p/mu*x**((1-nu)/mu)-x)\n",
    "    elif l_1<x<=l_2:\n",
    "        v=kappa*(1/(A*nu**nu))**(1/(mu+nu))*(p/mu)**(mu/(mu+nu))*x**(1/(mu+nu))-x\n",
    "    elif l_2<x:\n",
    "        v=nu*((1/(A*nu**nu))**(1/nu)*(p/mu)**(mu/nu)*x**((1-mu)/nu)-x)\n",
    "    return v"
   ]
  },
  {
   "cell_type": "markdown",
   "id": "c348c8c4",
   "metadata": {},
   "source": [
    "$$ f^* =\\begin{cases}\n",
    "   (1-\\mu-\\nu)\\displaystyle\\left(\\frac{1}{A\\nu^\\nu}\\right)^{1/\\mu}\\frac{p}{\\mu}\\underline x^{(1-\\nu)/\\mu} , & \\underline x\\le\\ell_1,\\\\\n",
    "    (1-\\mu-\\nu)\\left(\\displaystyle\\frac{1}{A\\nu^\\nu}\\right)^{1/(\\mu+\\nu)}\\left(\\displaystyle\\frac{p}{\\mu}\\right)^{\\mu/(\\mu+\\nu)} \\left(\\displaystyle\\frac{\\mu}{1-\\nu}\\right)^{\\nu/(\\mu+\\nu)}\\underline x^{1/(\\mu+\\nu)}, & \\ell_1\\le\\underline x\\le\\ell_2,\\\\\n",
    "    (1-\\mu-\\nu)\\underline x, & \\ell_2\\le\\underline x.\n",
    "  \\end{cases}  $$"
   ]
  },
  {
   "cell_type": "code",
   "execution_count": 7,
   "id": "4a637674",
   "metadata": {},
   "outputs": [],
   "source": [
    "def f_star(x):\n",
    "    if x<=l_1:\n",
    "        v=(1-mu-nu)*(1/(A*nu**nu))**(1/mu)*p/mu*x**((1-nu)/mu)\n",
    "    elif l_1<x<=l_2:\n",
    "        v=(1-mu-nu)*(1/(A*nu**nu))**(1/(mu+nu))*(p/mu)**(mu/(mu+nu))*(mu/(1-nu))**(nu/(mu+nu))*x**(1/(mu+nu))\n",
    "    elif l_2<x:\n",
    "        v=(1-mu-nu)*x\n",
    "    return v    "
   ]
  },
  {
   "cell_type": "markdown",
   "id": "499e69cc",
   "metadata": {},
   "source": [
    "$$\\sigma^*=\\begin{cases}\n",
    "1-\\left(\\displaystyle\\frac{1}{A\\nu^\\nu}\\right)^{1/\\mu}\\displaystyle\\frac{p}{\\mu}\\underline x^{(1-\\nu-\\mu)/\\mu}, & \\underline x\\le\\ell_1,\\\\\n",
    "1-\\left(\\displaystyle\\frac{1}{A\\nu^\\nu}\\right)^{1/(\\mu+\\nu)}\\left(\\displaystyle\\frac{p}{\\mu}\\right)^{\\mu/(\\mu+\\nu)}\\left(\\displaystyle\\frac{\\mu}{1-\\nu}\\right)^{\\nu/(\\mu+\\nu)}\\underline x^{(1-\\mu-\\nu)/(\\mu+\\nu)}, & \\ell_1\\le \\underline x\\le\\ell_2,\\\\\n",
    "0, & \\ell_2\\le \\underline x,\n",
    "\\end{cases}$$"
   ]
  },
  {
   "cell_type": "code",
   "execution_count": 8,
   "id": "811771eb",
   "metadata": {},
   "outputs": [],
   "source": [
    "def sigma_star(x):\n",
    "    if x<=l_1:\n",
    "        v=1-(1/(A*nu**nu))**(1/mu)*p/mu*x**((1-nu-mu)/mu)\n",
    "    elif l_1<x<=l_2:\n",
    "        v=1-(1/(A*nu**nu))**(1/(mu+nu))*(p/mu)**(mu/(mu+nu))*(mu/(1-nu))**(nu/(mu+nu))*x**((1-mu-nu)/(mu+nu))\n",
    "    elif l_2<x:\n",
    "        v=0\n",
    "    return v    "
   ]
  },
  {
   "cell_type": "markdown",
   "id": "b465ba74",
   "metadata": {},
   "source": [
    "$$ \\delta^*=\\begin{cases}\n",
    "0, & \\underline x\\le\\ell_1,\\\\\n",
    "\\displaystyle\\frac{1-\\nu}{\\mu}-1, & \\ell_1<\\underline x\\le\\ell_2,\\\\\n",
    "\\left(\\displaystyle\\frac{1}{A\\nu^\\nu}\\right)^{1/\\nu}\n",
    "\\left(\\displaystyle\\frac{p}{\\mu}\\right)^{\\mu/\\nu}\\underline x^{(1-\\mu-\\nu)/\\nu}-1,  & \\ell_2\\le \\underline x,\n",
    "\\end{cases}\n",
    "$$"
   ]
  },
  {
   "cell_type": "code",
   "execution_count": 9,
   "id": "902ac75a",
   "metadata": {},
   "outputs": [],
   "source": [
    "def delta_star(x):\n",
    "    if x<=l_1:\n",
    "        v=0\n",
    "    elif l_1<x<=l_2:\n",
    "        v=(1-nu)/mu-1\n",
    "    elif l_2<x:\n",
    "        v=(1/(A*nu**nu))**(1/nu)*(p/mu)**(mu/nu)*x**((1-mu-nu)/nu)-1\n",
    "    return v    "
   ]
  },
  {
   "cell_type": "markdown",
   "id": "bc6e5de9",
   "metadata": {},
   "source": [
    "$$ \\beta^*=\\begin{cases}\n",
    "    1-\\nu, & \\underline x\\le \\ell_1\\\\\n",
    "    1, & \\underline x>\\ell_1,\n",
    "\\end{cases} $$\n",
    "$$ \\gamma^*=\\begin{cases}\n",
    "    0, & \\underline x\\le\\ell_1\\\\\n",
    "    \\displaystyle\\frac{\\nu}{1-\\nu}, & \\underline x>\\ell_1,\n",
    "\\end{cases} $$"
   ]
  },
  {
   "cell_type": "code",
   "execution_count": 10,
   "id": "70a3109b",
   "metadata": {},
   "outputs": [],
   "source": [
    "def beta_star(x):\n",
    "    if x<=l_1:\n",
    "        return 1-nu\n",
    "    else:\n",
    "        return 1\n",
    "    \n",
    "def gamma_star(x):\n",
    "    if x<=l_1:\n",
    "        return 0\n",
    "    else:\n",
    "        return nu/(1-nu)    "
   ]
  },
  {
   "cell_type": "markdown",
   "id": "b7c24b1b",
   "metadata": {},
   "source": [
    "$$ L^* =\\begin{cases}\n",
    "    \\left(\\displaystyle\\frac{1}{A\\nu^\\nu}\\right)^{1/\\mu}\\underline x^{(1-\\nu)/\\mu}, & \\underline x\\le\\ell_1,\\\\\n",
    "    \\left(\\displaystyle\\frac{1}{A\\nu^\\nu}\\right)^{1/(\\mu+\\nu)}\\left(\\displaystyle\\frac{\\mu}{p}\\right)^{\\nu/(\\mu+\\nu)} \\left(\\displaystyle\\frac{\\mu}{1-\\nu}\\right)^{\\nu/(\\mu+\\nu)}\\underline x^{1/(\\mu+\\nu)}, & \\ell_1\\le\\underline x\\le\\ell_2,\\\\\n",
    "    \\displaystyle\\frac{\\mu}{p}\\underline x, & \\ell_2\\le\\underline x.\n",
    "\\end{cases}$$"
   ]
  },
  {
   "cell_type": "code",
   "execution_count": 11,
   "id": "b97686b5",
   "metadata": {},
   "outputs": [],
   "source": [
    "def L_star(x):\n",
    "    if x<=l_1:\n",
    "        v=(1/(A*nu**nu))**(1/mu)*x**((1-nu)/mu)\n",
    "    elif l_1<x<=l_2:\n",
    "        v=(1/(A*nu**nu))**(1/(mu+nu))*(mu/p)**(nu/(nu+mu))*(mu/(1-nu))**(nu/(mu+nu))*x**(1/(mu+nu))\n",
    "    elif l_2<x:\n",
    "        v=mu/p*x\n",
    "    return v    "
   ]
  },
  {
   "cell_type": "code",
   "execution_count": 12,
   "id": "68bad01d",
   "metadata": {},
   "outputs": [],
   "source": [
    "cost=[]\n",
    "revenue=[]\n",
    "sigma=[]\n",
    "delta=[]\n",
    "beta=[]\n",
    "gamma=[]\n",
    "L=[]\n",
    "x_=[]\n",
    "N=1000\n",
    "for x in np.linspace(0,1.3*l_2,N):\n",
    "    x_.append(x)\n",
    "    cost.append(g_star(x))\n",
    "    revenue.append(f_star(x))\n",
    "    sigma.append(sigma_star(x))\n",
    "    if np.abs(x-l_1)<2e-3:\n",
    "        delta.append(np.nan)\n",
    "    else:\n",
    "        delta.append(delta_star(x)) \n",
    "    beta.append(beta_star(x))\n",
    "    gamma.append(gamma_star(x))\n",
    "    L.append(L_star(x))"
   ]
  },
  {
   "cell_type": "code",
   "execution_count": 13,
   "id": "9a5d349b",
   "metadata": {},
   "outputs": [],
   "source": [
    "import matplotlib\n",
    "matplotlib.rcParams.update({'font.size': 14})\n",
    "plt.rc('text', usetex=True)"
   ]
  },
  {
   "cell_type": "code",
   "execution_count": 25,
   "id": "4c1138e4",
   "metadata": {},
   "outputs": [
    {
     "data": {
      "image/png": "[encoded data removed]",
      "text/plain": [
       "<Figure size 1000x400 with 2 Axes>"
      ]
     },
     "metadata": {},
     "output_type": "display_data"
    }
   ],
   "source": [
    "ell=[l_1,1,l_2]\n",
    "fig, axes = plt.subplots(nrows=1, ncols=2, figsize=(10,4))\n",
    "axes[0].plot(x_,cost,c='r',label=r'$g^*$');\n",
    "axes[0].plot(x_,revenue,c='g',label=r'$f^*$');\n",
    "axes[0].set_xticks(ell)\n",
    "axes[0].set_xticklabels(['$\\ell_1$',str(1),'$\\ell_2$'])\n",
    "axes[0].set_xlabel(r'$\\underline{x}$',loc='right',labelpad=-10)\n",
    "axes[0].set_title('(a)')\n",
    "axes[0].legend()\n",
    "axes[1].plot(x_,sigma,c='b',label=r'$\\sigma^*$');\n",
    "axes[1].plot(x_,delta,c='purple',label=r'$\\delta^*$',drawstyle='steps-post');\n",
    "axes[1].set_xticks(ell)\n",
    "axes[1].set_xticklabels(['$\\ell_1$',str(1),'$\\ell_2$'])\n",
    "axes[1].set_xlabel(r'$\\underline{x}$',loc='right',labelpad=-10)\n",
    "axes[1].vlines(l_1,0,(1-nu)/mu-1,ls=':',colors='purple')\n",
    "axes[1].set_title('(b)')\n",
    "axes[1].legend();"
   ]
  },
  {
   "cell_type": "code",
   "execution_count": 28,
   "id": "3a7dcd8c",
   "metadata": {},
   "outputs": [],
   "source": [
    "fig.savefig(\"Fig_1.pdf\", dpi=400)"
   ]
  }
 ],
 "metadata": {
  "kernelspec": {
   "display_name": "Python 3 (ipykernel)",
   "language": "python",
   "name": "python3"
  },
  "language_info": {
   "codemirror_mode": {
    "name": "ipython",
    "version": 3
   },
   "file_extension": ".py",
   "mimetype": "text/x-python",
   "name": "python",
   "nbconvert_exporter": "python",
   "pygments_lexer": "ipython3",
   "version": "3.10.9"
  }
 },
 "nbformat": 4,
 "nbformat_minor": 5
}
