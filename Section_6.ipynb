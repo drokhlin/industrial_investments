{
 "cells": [
  {
   "cell_type": "markdown",
   "id": "ab1ba05d",
   "metadata": {},
   "source": [
    "**A simple model for targeting industrial investments with subsidies and taxes**\n",
    "\n",
    "by\n",
    "\n",
    "Dmitry B. Rokhlin and Gennady A. Ougolnitsky\n",
    "\n",
    "Code for Section 6.  "
   ]
  },
  {
   "cell_type": "code",
   "execution_count": 1,
   "id": "4523ab85",
   "metadata": {},
   "outputs": [],
   "source": [
    "import numpy as np\n",
    "import matplotlib.pyplot as plt\n",
    "from IPython.display import display, Latex"
   ]
  },
  {
   "cell_type": "markdown",
   "id": "86d1ecd0",
   "metadata": {},
   "source": [
    "The price of raw materials $p_m$, the price of labor $p$, and the price of water $p_w$\n",
    "\n",
    "$$ p_m=100 \\ \\mathrm{PKR/kg},\\quad p=1400\\ \\mathrm{PKR/hr},\\quad p_w=30\\ \\mathrm{PKR/l}. $$"
   ]
  },
  {
   "cell_type": "code",
   "execution_count": 2,
   "id": "0f341b22",
   "metadata": {},
   "outputs": [],
   "source": [
    "p_m=100\n",
    "p_w=30\n",
    "p=1400"
   ]
  },
  {
   "cell_type": "markdown",
   "id": "c7e4d318",
   "metadata": {},
   "source": [
    "Parameters of the Cobb-Douglas function"
   ]
  },
  {
   "cell_type": "code",
   "execution_count": 3,
   "id": "dfd42a01",
   "metadata": {},
   "outputs": [],
   "source": [
    "mu=0.3568\n",
    "nu=0.0542\n",
    "A_calligr=3212.468"
   ]
  },
  {
   "cell_type": "code",
   "execution_count": 4,
   "id": "28e33f22",
   "metadata": {},
   "outputs": [],
   "source": [
    "A=A_calligr*p_w/(p_m**nu)"
   ]
  },
  {
   "cell_type": "markdown",
   "id": "9b9edb20",
   "metadata": {},
   "source": [
    "$$\\ell_1=\\left(A \\nu^\\nu\\right)^{1/(1-\\nu-\\mu)}\\left(\\frac{\\mu}{p}\\right)^{\\mu/(1-\\nu-\\mu)} \\left(\\frac{\\mu}{1-\\nu}\\right)^{\\mu/(1-\\nu-\\mu)},$$\n",
    "$$\\ell_2=(A\\nu^\\nu)^{1/(1-\\nu-\\mu)}\\left(\\frac{\\mu}{p}\\right)^{\\mu/(1-\\mu-\\nu)}\\left(\\frac{1-\\nu}{\\mu}\\right)^{\\nu/(1-\\nu-\\mu)}.$$"
   ]
  },
  {
   "cell_type": "code",
   "execution_count": 5,
   "id": "fd3084fb",
   "metadata": {},
   "outputs": [
    {
     "data": {
      "text/plain": [
       "(534266.6893016717, 1054838.0310734864, 17808.889643389055, 35161.26770244955)"
      ]
     },
     "execution_count": 5,
     "metadata": {},
     "output_type": "execute_result"
    }
   ],
   "source": [
    "def l_1(A=A_calligr*p_w/(p_m**nu)):\n",
    "    return (A*nu**nu)**(1/(1-nu-mu))*(mu/p)**(mu/(1-nu-mu))*(mu/(1-nu))**(mu/(1-nu-mu))\n",
    "def l_2(A=A_calligr*p_w/(p_m**nu)):\n",
    "    return (A*nu**nu)**(1/(1-nu-mu))*(mu/p)**(mu/(1-nu-mu))*((1-nu)/mu)**(nu/(1-nu-mu))\n",
    "l_1(), l_2(), l_1()/p_w, l_2()/p_w"
   ]
  },
  {
   "cell_type": "markdown",
   "id": "66a09f0e",
   "metadata": {},
   "source": [
    "$$w_1:=\\ell_1/p_w,\\quad w_2:=\\ell_2/p_w$$"
   ]
  },
  {
   "cell_type": "code",
   "execution_count": 6,
   "id": "9c465c9e",
   "metadata": {},
   "outputs": [
    {
     "data": {
      "text/latex": [
       "$w_1$=17809"
      ],
      "text/plain": [
       "<IPython.core.display.Latex object>"
      ]
     },
     "execution_count": 6,
     "metadata": {},
     "output_type": "execute_result"
    }
   ],
   "source": [
    "Latex(f'$w_1$={l_1()/p_w:.0f}')"
   ]
  },
  {
   "cell_type": "code",
   "execution_count": 7,
   "id": "48976045",
   "metadata": {},
   "outputs": [
    {
     "data": {
      "text/latex": [
       "$w_2$=35161"
      ],
      "text/plain": [
       "<IPython.core.display.Latex object>"
      ]
     },
     "execution_count": 7,
     "metadata": {},
     "output_type": "execute_result"
    }
   ],
   "source": [
    "Latex(f'$w_2$={l_2()/p_w:.0f}')"
   ]
  },
  {
   "cell_type": "markdown",
   "id": "5c266404",
   "metadata": {},
   "source": [
    "Fair industrial investment level\n",
    "\n",
    "$$ x^\\circ=\\left(\\frac{1}{\\varkappa}\\right)^{(\\mu+\\nu)/(1-\\mu-\\nu)}(A\\nu^\\nu)^{1/(1-\\mu-\\nu)}\\left(\\frac{\\mu}{p}\\right)^{\\mu/(1-\\mu-\\nu)}.    \n",
    "$$\n",
    "\n",
    "Fair production level \n",
    "\n",
    "$$w^\\circ=x^\\circ/p_w=\\left(\\mathcal A\\left(\\frac{\\nu}{p_m}\\right)^\\nu\\right)^{1/(1-\\mu-\\nu)}\\left(\\frac{\\mu}{p}\\right)^{\\mu/(1-\\mu-\\nu)}\\left(\\frac{p_w}{\\varkappa}\\right)^{(\\mu+\\nu)/(1-\\mu-\\nu)}$$."
   ]
  },
  {
   "cell_type": "code",
   "execution_count": 8,
   "id": "af4f9dfb",
   "metadata": {},
   "outputs": [
    {
     "data": {
      "text/plain": [
       "0.9580417209901357"
      ]
     },
     "execution_count": 8,
     "metadata": {},
     "output_type": "execute_result"
    }
   ],
   "source": [
    "kappa=nu*((1-nu)/mu)**(mu/(mu+nu))+(1-nu)*(mu/(1-nu))**(nu/(nu+mu))\n",
    "kappa"
   ]
  },
  {
   "cell_type": "code",
   "execution_count": 9,
   "id": "d9be79d8",
   "metadata": {},
   "outputs": [
    {
     "data": {
      "text/latex": [
       "$w^\\circ$=33120"
      ],
      "text/plain": [
       "<IPython.core.display.Latex object>"
      ]
     },
     "execution_count": 9,
     "metadata": {},
     "output_type": "execute_result"
    }
   ],
   "source": [
    "x_circ=(1/kappa)**((mu+nu)/(1-mu-nu))*(mu/p)**(mu/(1-mu-nu))*(A_calligr*(nu/p_m)**nu)**(1/(1-mu-nu))\\\n",
    "*p_w**(1/(1-mu-nu))\n",
    "w_circ=x_circ/p_w\n",
    "Latex(f'$w^\\circ$={w_circ:.0f}')"
   ]
  },
  {
   "cell_type": "markdown",
   "id": "ad595804",
   "metadata": {},
   "source": [
    "$$ g^*=\\begin{cases}\n",
    "(1-\\nu)\\left(\\left(\\displaystyle\\frac{1}{A\\nu^\\nu}\\right)^{1/\\mu}\\displaystyle\\frac{p}{\\mu}\\underline x^{(1-\\nu)/\\mu}-\\underline x\\right) ,& \\underline x\\le\\ell_1,\\\\\n",
    "\\varkappa(\\mu,\\nu)\\left(\\displaystyle\\frac{1}{A\\nu^\\nu}\\right)^{1/(\\mu+\\nu)}\\left(\\displaystyle\\frac{p}{\\mu}\\right)^{\\mu/(\\mu+\\nu)}\\underline x^{1/(\\mu+\\nu)}-\\underline x, & \\ell_1\\le \\underline x\\le\\ell_2,\\\\\n",
    "\\nu\\left(\\left(\\displaystyle\\frac{1}{A\\nu^\\nu}\\right)^{1/\\nu} \\left(\\displaystyle\\frac{p}{\\mu}\\right)^{\\mu/\\nu}\\underline x^{(1-\\mu)/\\nu}-\\underline x \\right), &\\ell_2\\le \\underline x,\n",
    "\\end{cases} $$\n",
    "\n",
    "$$\\varkappa(\\mu,\\nu)=\\nu\\left(\\frac{1-\\nu}{\\mu}\\right)^{\\mu/(\\mu+\\nu)}+(1-\\nu)\\left(\\frac{\\mu}{1-\\nu}\\right)^{\\nu/(\\mu+\\nu)}. $$"
   ]
  },
  {
   "cell_type": "code",
   "execution_count": 10,
   "id": "7cea2771",
   "metadata": {},
   "outputs": [],
   "source": [
    "def g_star(x,A=A_calligr*p_w/(p_m**nu)):\n",
    "    if x<=l_1(A):\n",
    "        v=(1-nu)*((1/(A*nu**nu))**(1/mu)*p/mu*x**((1-nu)/mu)-x)\n",
    "    elif l_1(A)<x<=l_2(A):\n",
    "        v=kappa*(1/(A*nu**nu))**(1/(mu+nu))*(p/mu)**(mu/(mu+nu))*x**(1/(mu+nu))-x\n",
    "    elif l_2(A)<x:\n",
    "        v=nu*((1/(A*nu**nu))**(1/nu)*(p/mu)**(mu/nu)*x**((1-mu)/nu)-x)\n",
    "    return v"
   ]
  },
  {
   "cell_type": "code",
   "execution_count": 11,
   "id": "4ceb8a6a",
   "metadata": {},
   "outputs": [
    {
     "data": {
      "text/plain": [
       "(-314683.07999868476, 94379.03121183673)"
      ]
     },
     "execution_count": 11,
     "metadata": {},
     "output_type": "execute_result"
    }
   ],
   "source": [
    "g_star(l_1()), g_star(l_2())"
   ]
  },
  {
   "cell_type": "markdown",
   "id": "c348c8c4",
   "metadata": {},
   "source": [
    "$$ f^* =\\begin{cases}\n",
    "   (1-\\mu-\\nu)\\displaystyle\\left(\\frac{1}{A\\nu^\\nu}\\right)^{1/\\mu}\\frac{p}{\\mu}\\underline x^{(1-\\nu)/\\mu} , & \\underline x\\le\\ell_1,\\\\\n",
    "    (1-\\mu-\\nu)\\left(\\displaystyle\\frac{1}{A\\nu^\\nu}\\right)^{1/(\\mu+\\nu)}\\left(\\displaystyle\\frac{p}{\\mu}\\right)^{\\mu/(\\mu+\\nu)} \\left(\\displaystyle\\frac{\\mu}{1-\\nu}\\right)^{\\nu/(\\mu+\\nu)}\\underline x^{1/(\\mu+\\nu)}, & \\ell_1\\le\\underline x\\le\\ell_2,\\\\\n",
    "    (1-\\mu-\\nu)\\underline x, & \\ell_2\\le\\underline x.\n",
    "  \\end{cases}  $$"
   ]
  },
  {
   "cell_type": "code",
   "execution_count": 12,
   "id": "4a637674",
   "metadata": {},
   "outputs": [],
   "source": [
    "def f_star(x,A=A_calligr*p_w/(p_m**nu)):\n",
    "    if x<=l_1(A):\n",
    "        v=(1-mu-nu)*(1/(A*nu**nu))**(1/mu)*p/mu*x**((1-nu)/mu)\n",
    "    elif l_1(A)<x<=l_2(A):\n",
    "        v=(1-mu-nu)*(1/(A*nu**nu))**(1/(mu+nu))*(p/mu)**(mu/(mu+nu))*(mu/(1-nu))**(nu/(mu+nu))*x**(1/(mu+nu))\n",
    "    elif l_2(A)<x:\n",
    "        v=(1-mu-nu)*x\n",
    "    return v    "
   ]
  },
  {
   "cell_type": "code",
   "execution_count": 13,
   "id": "739fef4d",
   "metadata": {},
   "outputs": [
    {
     "data": {
      "text/plain": [
       "118713.17714477755"
      ]
     },
     "execution_count": 13,
     "metadata": {},
     "output_type": "execute_result"
    }
   ],
   "source": [
    "f_star(l_1())"
   ]
  },
  {
   "cell_type": "markdown",
   "id": "499e69cc",
   "metadata": {},
   "source": [
    "$$\\sigma^*=\\begin{cases}\n",
    "1-\\left(\\displaystyle\\frac{1}{A\\nu^\\nu}\\right)^{1/\\mu}\\displaystyle\\frac{p}{\\mu}\\underline x^{(1-\\nu-\\mu)/\\mu}, & \\underline x\\le\\ell_1,\\\\\n",
    "1-\\left(\\displaystyle\\frac{1}{A\\nu^\\nu}\\right)^{1/(\\mu+\\nu)}\\left(\\displaystyle\\frac{p}{\\mu}\\right)^{\\mu/(\\mu+\\nu)}\\left(\\displaystyle\\frac{\\mu}{1-\\nu}\\right)^{\\nu/(\\mu+\\nu)}\\underline x^{(1-\\mu-\\nu)/(\\mu+\\nu)}, & \\ell_1\\le \\underline x\\le\\ell_2,\\\\\n",
    "0, & \\ell_2\\le \\underline x,\n",
    "\\end{cases}$$"
   ]
  },
  {
   "cell_type": "code",
   "execution_count": 14,
   "id": "811771eb",
   "metadata": {},
   "outputs": [],
   "source": [
    "def sigma_star(x,A=A_calligr*p_w/(p_m**nu)):\n",
    "    if x<=l_1(A):\n",
    "        v=1-(1/(A*nu**nu))**(1/mu)*p/mu*x**((1-nu-mu)/mu)\n",
    "    elif l_1(A)<x<=l_2(A):\n",
    "        v=1-(1/(A*nu**nu))**(1/(mu+nu))*(p/mu)**(mu/(mu+nu))*(mu/(1-nu))**(nu/(mu+nu))*x**((1-mu-nu)/(mu+nu))\n",
    "    elif l_2(A)<x:\n",
    "        v=0\n",
    "    return v    "
   ]
  },
  {
   "cell_type": "code",
   "execution_count": 15,
   "id": "faef8f2d",
   "metadata": {},
   "outputs": [
    {
     "data": {
      "text/latex": [
       "$\\sigma^*(x^\\circ)$=0.08"
      ],
      "text/plain": [
       "<IPython.core.display.Latex object>"
      ]
     },
     "execution_count": 15,
     "metadata": {},
     "output_type": "execute_result"
    }
   ],
   "source": [
    "Latex(f'$\\sigma^*(x^\\circ)$={sigma_star(x_circ):.2f}')"
   ]
  },
  {
   "cell_type": "markdown",
   "id": "b465ba74",
   "metadata": {},
   "source": [
    "$$ \\delta^*=\\begin{cases}\n",
    "0, & \\underline x\\le\\ell_1,\\\\\n",
    "\\displaystyle\\frac{1-\\nu}{\\mu}-1, & \\ell_1<\\underline x\\le\\ell_2,\\\\\n",
    "\\left(\\displaystyle\\frac{1}{A\\nu^\\nu}\\right)^{1/\\nu}\n",
    "\\left(\\displaystyle\\frac{p}{\\mu}\\right)^{\\mu/\\nu}\\underline x^{(1-\\mu-\\nu)/\\nu}-1,  & \\ell_2\\le \\underline x,\n",
    "\\end{cases}\n",
    "$$"
   ]
  },
  {
   "cell_type": "code",
   "execution_count": 16,
   "id": "902ac75a",
   "metadata": {},
   "outputs": [],
   "source": [
    "def delta_star(x,A=A_calligr*p_w/(p_m**nu)):\n",
    "    if x<=l_1(A):\n",
    "        v=0\n",
    "    elif l_1(A)<x<=l_2(A):\n",
    "        v=(1-nu)/mu-1\n",
    "    elif l_2(A)<x:\n",
    "        v=(1/(A*nu**nu))**(1/nu)*(p/mu)**(mu/nu)*x**((1-mu-nu)/nu)-1\n",
    "    return v    "
   ]
  },
  {
   "cell_type": "code",
   "execution_count": 17,
   "id": "cda3c2a1",
   "metadata": {},
   "outputs": [
    {
     "data": {
      "text/latex": [
       "$\\delta^*(x^\\circ)$=1.65"
      ],
      "text/plain": [
       "<IPython.core.display.Latex object>"
      ]
     },
     "execution_count": 17,
     "metadata": {},
     "output_type": "execute_result"
    }
   ],
   "source": [
    "Latex(f'$\\delta^*(x^\\circ)$={(1-nu)/mu-1:.2f}')"
   ]
  },
  {
   "cell_type": "markdown",
   "id": "bc6e5de9",
   "metadata": {},
   "source": [
    "$$ \\beta^*=\\begin{cases}\n",
    "    1-\\nu, & \\underline x\\le \\ell_1\\\\\n",
    "    1, & \\underline x>\\ell_1,\n",
    "\\end{cases} $$\n",
    "$$ \\gamma^*=\\begin{cases}\n",
    "    0, & \\underline x\\le\\ell_1\\\\\n",
    "    \\displaystyle\\frac{\\nu}{1-\\nu}, & \\underline x>\\ell_1,\n",
    "\\end{cases} $$"
   ]
  },
  {
   "cell_type": "code",
   "execution_count": 18,
   "id": "70a3109b",
   "metadata": {},
   "outputs": [],
   "source": [
    "def beta_star(x):\n",
    "    if x<=l_1(A):\n",
    "        return 1-nu\n",
    "    else:\n",
    "        return 1\n",
    "    \n",
    "def gamma_star(x):\n",
    "    if x<=l_1(A):\n",
    "        return 0\n",
    "    else:\n",
    "        return nu/(1-nu)    "
   ]
  },
  {
   "cell_type": "markdown",
   "id": "b7c24b1b",
   "metadata": {},
   "source": [
    "$$ L^* =\\begin{cases}\n",
    "    \\left(\\displaystyle\\frac{1}{A\\nu^\\nu}\\right)^{1/\\mu}\\underline x^{(1-\\nu)/\\mu}, & \\underline x\\le\\ell_1,\\\\\n",
    "    \\left(\\displaystyle\\frac{1}{A\\nu^\\nu}\\right)^{1/(\\mu+\\nu)}\\left(\\displaystyle\\frac{\\mu}{p}\\right)^{\\nu/(\\mu+\\nu)} \\left(\\displaystyle\\frac{\\mu}{1-\\nu}\\right)^{\\nu/(\\mu+\\nu)}\\underline x^{1/(\\mu+\\nu)}, & \\ell_1\\le\\underline x\\le\\ell_2,\\\\\n",
    "    \\displaystyle\\frac{\\mu}{p}\\underline x, & \\ell_2\\le\\underline x.\n",
    "\\end{cases}$$"
   ]
  },
  {
   "cell_type": "code",
   "execution_count": 19,
   "id": "b97686b5",
   "metadata": {},
   "outputs": [],
   "source": [
    "def L_star(x,A=A_calligr*p_w/(p_m**nu)):\n",
    "    if x<=l_1(A):\n",
    "        v=(1/(A*nu**nu))**(1/mu)*x**((1-nu)/mu)\n",
    "    elif l_1(A)<x<=l_2(A):\n",
    "        v=(1/(A*nu**nu))**(1/(mu+nu))*(mu/p)**(nu/(nu+mu))*(mu/(1-nu))**(nu/(mu+nu))*x**(1/(mu+nu))\n",
    "    elif l_2(A)<x:\n",
    "        v=mu/p*x\n",
    "    return v    "
   ]
  },
  {
   "cell_type": "code",
   "execution_count": 20,
   "id": "4a5c6087",
   "metadata": {},
   "outputs": [
    {
     "data": {
      "text/plain": [
       "True"
      ]
     },
     "execution_count": 20,
     "metadata": {},
     "output_type": "execute_result"
    }
   ],
   "source": [
    "l_1()<x_circ<l_2()"
   ]
  },
  {
   "cell_type": "code",
   "execution_count": 21,
   "id": "65713694",
   "metadata": {},
   "outputs": [
    {
     "data": {
      "text/latex": [
       "$L^*(x^\\circ)$=232"
      ],
      "text/plain": [
       "<IPython.core.display.Latex object>"
      ]
     },
     "execution_count": 21,
     "metadata": {},
     "output_type": "execute_result"
    }
   ],
   "source": [
    "Latex(f'$L^*(x^\\circ)$={L_star(x_circ):.0f}')"
   ]
  },
  {
   "cell_type": "code",
   "execution_count": 22,
   "id": "68bad01d",
   "metadata": {},
   "outputs": [],
   "source": [
    "cost=[]\n",
    "revenue=[]\n",
    "sigma=[]\n",
    "delta=[]\n",
    "beta=[]\n",
    "gamma=[]\n",
    "L=[]\n",
    "x_w=[]\n",
    "N=1000\n",
    "for x in np.linspace(0,1.05*l_2(),N):\n",
    "    x_w.append(x/p_w)\n",
    "    cost.append(g_star(x))\n",
    "    revenue.append(f_star(x))\n",
    "    sigma.append(sigma_star(x))\n",
    "    if np.abs(x-l_1())/N<1:\n",
    "        delta.append(np.nan)\n",
    "    else:\n",
    "        delta.append(delta_star(x)) \n",
    "    beta.append(beta_star(x))\n",
    "    gamma.append(gamma_star(x))\n",
    "    L.append(L_star(x))"
   ]
  },
  {
   "cell_type": "code",
   "execution_count": 23,
   "id": "9a5d349b",
   "metadata": {},
   "outputs": [],
   "source": [
    "import matplotlib\n",
    "matplotlib.rcParams.update({'font.size': 14})\n",
    "plt.rc('text', usetex=True)"
   ]
  },
  {
   "cell_type": "code",
   "execution_count": 24,
   "id": "4c1138e4",
   "metadata": {},
   "outputs": [
    {
     "data": {
      "image/png": "[encoded data removed]",
      "text/plain": [
       "<Figure size 1200x400 with 2 Axes>"
      ]
     },
     "metadata": {},
     "output_type": "display_data"
    }
   ],
   "source": [
    "x_circ=(1/kappa)**((mu+nu)/(1-mu-nu))*(mu/p)**(mu/(1-mu-nu))*(A_calligr*(nu/p_m)**nu)**(1/(1-mu-nu))*p_w**(1/(1-mu-nu))\n",
    "ell_w=[l_1()/p_w,x_circ/p_w,l_2()/p_w]\n",
    "fig, axes = plt.subplots(nrows=1, ncols=2, figsize=(12,4))\n",
    "axes[0].plot(x_w,cost,c='r',label=r'$g^*$');\n",
    "axes[0].plot(x_w,revenue,c='g',label=r'$f^*$');\n",
    "axes[0].set_xticks(ell_w)\n",
    "axes[0].set_xticklabels(['$w_1$','$w^\\circ$','$w_2$'])\n",
    "axes[0].set_xlabel(r'$w$',loc='right',labelpad=-10)\n",
    "axes[0].ticklabel_format(style='sci', axis='y', scilimits=(0,0))\n",
    "axes[0].set_title('(a)')\n",
    "axes[0].legend()\n",
    "axes[1].plot(x_w,sigma,c='b',label=r'$\\sigma^*$');\n",
    "axes[1].plot(x_w,delta,c='purple',label=r'$\\delta^*$',drawstyle='steps-post');\n",
    "axes[1].set_xticks(ell_w)\n",
    "axes[1].set_xticklabels(['$w_1$','$w^\\circ$','$w_2$'])\n",
    "axes[1].set_xlabel(r'$w$',loc='right',labelpad=-10)\n",
    "axes[1].vlines(l_1()/p_w,0,(1-nu)/mu-1,ls=':',colors='purple')\n",
    "axes[1].set_title('(b)')\n",
    "axes[1].legend();"
   ]
  },
  {
   "cell_type": "code",
   "execution_count": 25,
   "id": "3a7dcd8c",
   "metadata": {},
   "outputs": [],
   "source": [
    "fig.savefig(\"Fig_2.pdf\", dpi=400)"
   ]
  },
  {
   "cell_type": "markdown",
   "id": "72e62031",
   "metadata": {},
   "source": [
    "The dependence of $P^*(x^\\circ$), $L^*(x^\\circ)$, $M^*(x^\\circ)$ on the  water price $p_w$ in range $[25,40]$."
   ]
  },
  {
   "cell_type": "code",
   "execution_count": 26,
   "id": "2b7ddb9d",
   "metadata": {},
   "outputs": [
    {
     "name": "stdout",
     "output_type": "stream",
     "text": [
      "25 29163.73591629433 170.55469920583639 961.4808313036223 29163.735916294318\n",
      "26 29972.909311546224 182.29836425937228 1027.6842774168126 29972.909311546213\n",
      "27 30772.729209539124 194.36152748985276 1095.6888546287012 30772.729209539102\n",
      "28 31563.64442120087 206.74056448100467 1165.4741307448794 31563.644421200865\n",
      "29 32346.067030936334 219.43202162416281 1237.020636477513 32346.067030936312\n",
      "30 33120.37656013853 232.43260238036996 1310.3097879996435 33120.376560138524\n",
      "31 33886.92353608581 245.73915507423465 1385.323818134585 33886.923536085786\n",
      "32 34646.03256753601 259.34866200426274 1462.045714966778 34646.03256753599\n",
      "33 35398.005008447755 273.25822969048124 1540.459166863984 35398.00500844773\n",
      "34 36143.121275762285 287.4650801093291 1620.548513065081 36143.12127576225\n",
      "35 36881.64287500021 301.9665427894473 1702.2986991210587 36881.64287500019\n",
      "36 37613.81417778105 316.76004766136884 1785.6952365860466 37613.81417778104\n",
      "37 38339.86398767739 331.84311857004275 1870.7241664449725 38339.86398767737\n",
      "38 39060.00692463357 347.2133673723094 1957.372025838818 39060.00692463354\n",
      "39 39774.44465318151 362.8684885524318 2045.6258177103464 39774.44465318149\n",
      "40 40483.36697562107 378.8062542979644 2135.47298304493 40483.36697562105\n"
     ]
    }
   ],
   "source": [
    "production=[]\n",
    "water_price=[]\n",
    "labor=[]\n",
    "raw_materials=[]\n",
    "for w_price in np.arange(25,41,1):\n",
    "    w_circ=(1/kappa)**((mu+nu)/(1-mu-nu))*(mu/p)**(mu/(1-mu-nu))*(A_calligr*(nu/p_m)**nu)**(1/(1-mu-nu))\\\n",
    "    *w_price**((mu+nu)/(1-mu-nu))\n",
    "   # x_circ=w_circ*w_price\n",
    "    x_circ=(1/kappa)**((mu+nu)/(1-mu-nu))*(mu/p)**(mu/(1-mu-nu))*(A_calligr*(nu/p_m)**nu)**(1/(1-mu-nu))*w_price**(1/(1-mu-nu))\n",
    "    production.append(w_circ)\n",
    "    labor.append(L_star(x_circ,A_calligr*w_price/(p_m**nu)))\n",
    "    water_price.append(w_price)\n",
    "    raw_materials.append((1-sigma_star(x_circ,A_calligr*w_price/(p_m**nu)))*(1+delta_star(x_circ,A_calligr*w_price/(p_m**nu)))\\\n",
    "                         *nu*x_circ/p_m)\n",
    "    print(w_price,production[-1],labor[-1],raw_materials[-1],A_calligr*labor[-1]**mu*raw_materials[-1]**nu)"
   ]
  },
  {
   "cell_type": "code",
   "execution_count": 27,
   "id": "1ba0b16c",
   "metadata": {},
   "outputs": [
    {
     "data": {
      "text/html": [
       "<div>\n",
       "<style scoped>\n",
       "    .dataframe tbody tr th:only-of-type {\n",
       "        vertical-align: middle;\n",
       "    }\n",
       "\n",
       "    .dataframe tbody tr th {\n",
       "        vertical-align: top;\n",
       "    }\n",
       "\n",
       "    .dataframe thead th {\n",
       "        text-align: right;\n",
       "    }\n",
       "</style>\n",
       "<table border=\"1\" class=\"dataframe\">\n",
       "  <thead>\n",
       "    <tr style=\"text-align: right;\">\n",
       "      <th></th>\n",
       "      <th>production</th>\n",
       "      <th>labor</th>\n",
       "      <th>raw materials</th>\n",
       "    </tr>\n",
       "    <tr>\n",
       "      <th>water price</th>\n",
       "      <th></th>\n",
       "      <th></th>\n",
       "      <th></th>\n",
       "    </tr>\n",
       "  </thead>\n",
       "  <tbody>\n",
       "    <tr>\n",
       "      <th>25</th>\n",
       "      <td>29163.735916</td>\n",
       "      <td>170.554699</td>\n",
       "      <td>961.480831</td>\n",
       "    </tr>\n",
       "    <tr>\n",
       "      <th>26</th>\n",
       "      <td>29972.909312</td>\n",
       "      <td>182.298364</td>\n",
       "      <td>1027.684277</td>\n",
       "    </tr>\n",
       "    <tr>\n",
       "      <th>27</th>\n",
       "      <td>30772.729210</td>\n",
       "      <td>194.361527</td>\n",
       "      <td>1095.688855</td>\n",
       "    </tr>\n",
       "    <tr>\n",
       "      <th>28</th>\n",
       "      <td>31563.644421</td>\n",
       "      <td>206.740564</td>\n",
       "      <td>1165.474131</td>\n",
       "    </tr>\n",
       "    <tr>\n",
       "      <th>29</th>\n",
       "      <td>32346.067031</td>\n",
       "      <td>219.432022</td>\n",
       "      <td>1237.020636</td>\n",
       "    </tr>\n",
       "    <tr>\n",
       "      <th>30</th>\n",
       "      <td>33120.376560</td>\n",
       "      <td>232.432602</td>\n",
       "      <td>1310.309788</td>\n",
       "    </tr>\n",
       "    <tr>\n",
       "      <th>31</th>\n",
       "      <td>33886.923536</td>\n",
       "      <td>245.739155</td>\n",
       "      <td>1385.323818</td>\n",
       "    </tr>\n",
       "    <tr>\n",
       "      <th>32</th>\n",
       "      <td>34646.032568</td>\n",
       "      <td>259.348662</td>\n",
       "      <td>1462.045715</td>\n",
       "    </tr>\n",
       "    <tr>\n",
       "      <th>33</th>\n",
       "      <td>35398.005008</td>\n",
       "      <td>273.258230</td>\n",
       "      <td>1540.459167</td>\n",
       "    </tr>\n",
       "    <tr>\n",
       "      <th>34</th>\n",
       "      <td>36143.121276</td>\n",
       "      <td>287.465080</td>\n",
       "      <td>1620.548513</td>\n",
       "    </tr>\n",
       "    <tr>\n",
       "      <th>35</th>\n",
       "      <td>36881.642875</td>\n",
       "      <td>301.966543</td>\n",
       "      <td>1702.298699</td>\n",
       "    </tr>\n",
       "    <tr>\n",
       "      <th>36</th>\n",
       "      <td>37613.814178</td>\n",
       "      <td>316.760048</td>\n",
       "      <td>1785.695237</td>\n",
       "    </tr>\n",
       "    <tr>\n",
       "      <th>37</th>\n",
       "      <td>38339.863988</td>\n",
       "      <td>331.843119</td>\n",
       "      <td>1870.724166</td>\n",
       "    </tr>\n",
       "    <tr>\n",
       "      <th>38</th>\n",
       "      <td>39060.006925</td>\n",
       "      <td>347.213367</td>\n",
       "      <td>1957.372026</td>\n",
       "    </tr>\n",
       "    <tr>\n",
       "      <th>39</th>\n",
       "      <td>39774.444653</td>\n",
       "      <td>362.868489</td>\n",
       "      <td>2045.625818</td>\n",
       "    </tr>\n",
       "    <tr>\n",
       "      <th>40</th>\n",
       "      <td>40483.366976</td>\n",
       "      <td>378.806254</td>\n",
       "      <td>2135.472983</td>\n",
       "    </tr>\n",
       "  </tbody>\n",
       "</table>\n",
       "</div>"
      ],
      "text/plain": [
       "               production       labor  raw materials\n",
       "water price                                         \n",
       "25           29163.735916  170.554699     961.480831\n",
       "26           29972.909312  182.298364    1027.684277\n",
       "27           30772.729210  194.361527    1095.688855\n",
       "28           31563.644421  206.740564    1165.474131\n",
       "29           32346.067031  219.432022    1237.020636\n",
       "30           33120.376560  232.432602    1310.309788\n",
       "31           33886.923536  245.739155    1385.323818\n",
       "32           34646.032568  259.348662    1462.045715\n",
       "33           35398.005008  273.258230    1540.459167\n",
       "34           36143.121276  287.465080    1620.548513\n",
       "35           36881.642875  301.966543    1702.298699\n",
       "36           37613.814178  316.760048    1785.695237\n",
       "37           38339.863988  331.843119    1870.724166\n",
       "38           39060.006925  347.213367    1957.372026\n",
       "39           39774.444653  362.868489    2045.625818\n",
       "40           40483.366976  378.806254    2135.472983"
      ]
     },
     "execution_count": 27,
     "metadata": {},
     "output_type": "execute_result"
    }
   ],
   "source": [
    "import pandas as pd\n",
    "columns={'water price':water_price,'production':production,'labor':labor,'raw materials':raw_materials}\n",
    "table=pd.DataFrame(columns).set_index('water price')\n",
    "table"
   ]
  },
  {
   "cell_type": "markdown",
   "id": "89089338",
   "metadata": {},
   "source": [
    "Data from the paper\n",
    "\n",
    "Muhammad, S., Hanan, F., Shah, S. A., Yuan, A., Khan, W.,  Sun, H. Industrial optimization using three-factor Cobb-Douglas production function of non-linear programming with application. *AIMS Mathematics* **2023**, *8(12)*, 29956-29974."
   ]
  },
  {
   "cell_type": "code",
   "execution_count": 28,
   "id": "c381194c",
   "metadata": {},
   "outputs": [
    {
     "data": {
      "text/plain": [
       "(35.739583333333336, 1.2487267821220494)"
      ]
     },
     "execution_count": 28,
     "metadata": {},
     "output_type": "execute_result"
    }
   ],
   "source": [
    "true_prod_levels=[36.000,34.000,36.700,37.000,35.700,36.400,33.600,35.500,36.875,37.000,33.600,36.500]\n",
    "np.mean(true_prod_levels), np.std(true_prod_levels)"
   ]
  },
  {
   "cell_type": "code",
   "execution_count": 29,
   "id": "4d0ab43d",
   "metadata": {},
   "outputs": [
    {
     "data": {
      "text/plain": [
       "(304.5416666666667, 25.70137669248262)"
      ]
     },
     "execution_count": 29,
     "metadata": {},
     "output_type": "execute_result"
    }
   ],
   "source": [
    "true_labor_levels=[300,272,315,330,278.5,321,269,308,338,321,266,336]\n",
    "np.mean(true_labor_levels), np.std(true_labor_levels)"
   ]
  },
  {
   "cell_type": "code",
   "execution_count": 30,
   "id": "6ba17129",
   "metadata": {},
   "outputs": [
    {
     "data": {
      "text/plain": [
       "(903.4166666666666, 36.65028042942585)"
      ]
     },
     "execution_count": 30,
     "metadata": {},
     "output_type": "execute_result"
    }
   ],
   "source": [
    "true_raw_materials=[900,833,924,942,874,922,860,950,957,914,875,890]\n",
    "np.mean(true_raw_materials), np.std(true_raw_materials)"
   ]
  },
  {
   "cell_type": "code",
   "execution_count": 31,
   "id": "153e1610",
   "metadata": {},
   "outputs": [
    {
     "data": {
      "text/plain": [
       "35999.67463000339"
      ]
     },
     "execution_count": 31,
     "metadata": {},
     "output_type": "execute_result"
    }
   ],
   "source": [
    "# Checking the result from Muhammad et al.\n",
    "A_calligr*323.7554**mu*688.4982**nu"
   ]
  }
 ],
 "metadata": {
  "kernelspec": {
   "display_name": "Python 3 (ipykernel)",
   "language": "python",
   "name": "python3"
  },
  "language_info": {
   "codemirror_mode": {
    "name": "ipython",
    "version": 3
   },
   "file_extension": ".py",
   "mimetype": "text/x-python",
   "name": "python",
   "nbconvert_exporter": "python",
   "pygments_lexer": "ipython3",
   "version": "3.10.9"
  }
 },
 "nbformat": 4,
 "nbformat_minor": 5
}
